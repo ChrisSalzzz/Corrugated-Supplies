{
 "cells": [
  {
   "cell_type": "code",
   "execution_count": 1,
   "id": "7a4a06f1",
   "metadata": {},
   "outputs": [
    {
     "name": "stdout",
     "output_type": "stream",
     "text": [
      "Requirement already satisfied: transformers in /Users/colleenjung/anaconda3/lib/python3.11/site-packages (4.32.1)\n",
      "Requirement already satisfied: torchvision in /Users/colleenjung/anaconda3/lib/python3.11/site-packages (0.17.2)\n",
      "Requirement already satisfied: filelock in /Users/colleenjung/anaconda3/lib/python3.11/site-packages (from transformers) (3.9.0)\n",
      "Requirement already satisfied: huggingface-hub<1.0,>=0.15.1 in /Users/colleenjung/anaconda3/lib/python3.11/site-packages (from transformers) (0.15.1)\n",
      "Requirement already satisfied: numpy>=1.17 in /Users/colleenjung/anaconda3/lib/python3.11/site-packages (from transformers) (1.26.4)\n",
      "Requirement already satisfied: packaging>=20.0 in /Users/colleenjung/anaconda3/lib/python3.11/site-packages (from transformers) (23.1)\n",
      "Requirement already satisfied: pyyaml>=5.1 in /Users/colleenjung/anaconda3/lib/python3.11/site-packages (from transformers) (6.0)\n",
      "Requirement already satisfied: regex!=2019.12.17 in /Users/colleenjung/anaconda3/lib/python3.11/site-packages (from transformers) (2022.7.9)\n",
      "Requirement already satisfied: requests in /Users/colleenjung/anaconda3/lib/python3.11/site-packages (from transformers) (2.32.3)\n",
      "Requirement already satisfied: tokenizers!=0.11.3,<0.14,>=0.11.1 in /Users/colleenjung/anaconda3/lib/python3.11/site-packages (from transformers) (0.13.2)\n",
      "Requirement already satisfied: safetensors>=0.3.1 in /Users/colleenjung/anaconda3/lib/python3.11/site-packages (from transformers) (0.3.2)\n",
      "Requirement already satisfied: tqdm>=4.27 in /Users/colleenjung/anaconda3/lib/python3.11/site-packages (from transformers) (4.65.0)\n",
      "Requirement already satisfied: torch==2.2.2 in /Users/colleenjung/anaconda3/lib/python3.11/site-packages (from torchvision) (2.2.2)\n",
      "Requirement already satisfied: pillow!=8.3.*,>=5.3.0 in /Users/colleenjung/anaconda3/lib/python3.11/site-packages (from torchvision) (10.3.0)\n",
      "Requirement already satisfied: typing-extensions>=4.8.0 in /Users/colleenjung/anaconda3/lib/python3.11/site-packages (from torch==2.2.2->torchvision) (4.12.1)\n",
      "Requirement already satisfied: sympy in /Users/colleenjung/anaconda3/lib/python3.11/site-packages (from torch==2.2.2->torchvision) (1.11.1)\n",
      "Requirement already satisfied: networkx in /Users/colleenjung/anaconda3/lib/python3.11/site-packages (from torch==2.2.2->torchvision) (3.1)\n",
      "Requirement already satisfied: jinja2 in /Users/colleenjung/anaconda3/lib/python3.11/site-packages (from torch==2.2.2->torchvision) (3.1.2)\n",
      "Requirement already satisfied: fsspec in /Users/colleenjung/anaconda3/lib/python3.11/site-packages (from torch==2.2.2->torchvision) (2023.4.0)\n",
      "Requirement already satisfied: charset-normalizer<4,>=2 in /Users/colleenjung/anaconda3/lib/python3.11/site-packages (from requests->transformers) (3.1.0)\n",
      "Requirement already satisfied: idna<4,>=2.5 in /Users/colleenjung/anaconda3/lib/python3.11/site-packages (from requests->transformers) (3.4)\n",
      "Requirement already satisfied: urllib3<3,>=1.21.1 in /Users/colleenjung/anaconda3/lib/python3.11/site-packages (from requests->transformers) (2.0.3)\n",
      "Requirement already satisfied: certifi>=2017.4.17 in /Users/colleenjung/anaconda3/lib/python3.11/site-packages (from requests->transformers) (2023.5.7)\n",
      "Requirement already satisfied: MarkupSafe>=2.0 in /Users/colleenjung/anaconda3/lib/python3.11/site-packages (from jinja2->torch==2.2.2->torchvision) (2.1.1)\n",
      "Requirement already satisfied: mpmath>=0.19 in /Users/colleenjung/anaconda3/lib/python3.11/site-packages (from sympy->torch==2.2.2->torchvision) (1.3.0)\n",
      "\n",
      "\u001b[1m[\u001b[0m\u001b[34;49mnotice\u001b[0m\u001b[1;39;49m]\u001b[0m\u001b[39;49m A new release of pip is available: \u001b[0m\u001b[31;49m24.0\u001b[0m\u001b[39;49m -> \u001b[0m\u001b[32;49m24.1.1\u001b[0m\n",
      "\u001b[1m[\u001b[0m\u001b[34;49mnotice\u001b[0m\u001b[1;39;49m]\u001b[0m\u001b[39;49m To update, run: \u001b[0m\u001b[32;49mpip install --upgrade pip\u001b[0m\n",
      "Note: you may need to restart the kernel to use updated packages.\n"
     ]
    }
   ],
   "source": [
    "pip install transformers torchvision"
   ]
  },
  {
   "cell_type": "code",
   "execution_count": 2,
   "id": "22e82ca2",
   "metadata": {},
   "outputs": [
    {
     "name": "stderr",
     "output_type": "stream",
     "text": [
      "/Users/colleenjung/anaconda3/lib/python3.11/site-packages/transformers/utils/generic.py:260: UserWarning: torch.utils._pytree._register_pytree_node is deprecated. Please use torch.utils._pytree.register_pytree_node instead.\n",
      "  torch.utils._pytree._register_pytree_node(\n"
     ]
    },
    {
     "data": {
      "application/vnd.jupyter.widget-view+json": {
       "model_id": "e9f5152564f3445cb0ab43b3d553b064",
       "version_major": 2,
       "version_minor": 0
      },
      "text/plain": [
       "Downloading config.json:   0%|          | 0.00/4.19k [00:00<?, ?B/s]"
      ]
     },
     "metadata": {},
     "output_type": "display_data"
    },
    {
     "data": {
      "application/vnd.jupyter.widget-view+json": {
       "model_id": "4d976362e74e485394d7599b9495dc28",
       "version_major": 2,
       "version_minor": 0
      },
      "text/plain": [
       "Downloading pytorch_model.bin:   0%|          | 0.00/605M [00:00<?, ?B/s]"
      ]
     },
     "metadata": {},
     "output_type": "display_data"
    },
    {
     "name": "stderr",
     "output_type": "stream",
     "text": [
      "2024-07-02 15:55:41.083950: I tensorflow/core/platform/cpu_feature_guard.cc:210] This TensorFlow binary is optimized to use available CPU instructions in performance-critical operations.\n",
      "To enable the following instructions: AVX2 FMA, in other operations, rebuild TensorFlow with the appropriate compiler flags.\n"
     ]
    },
    {
     "data": {
      "application/vnd.jupyter.widget-view+json": {
       "model_id": "dce0933afec247729392142b90cf012f",
       "version_major": 2,
       "version_minor": 0
      },
      "text/plain": [
       "Downloading (…)rocessor_config.json:   0%|          | 0.00/316 [00:00<?, ?B/s]"
      ]
     },
     "metadata": {},
     "output_type": "display_data"
    },
    {
     "data": {
      "application/vnd.jupyter.widget-view+json": {
       "model_id": "a9eb39997394417b96a9d00a90b72814",
       "version_major": 2,
       "version_minor": 0
      },
      "text/plain": [
       "Downloading tokenizer_config.json:   0%|          | 0.00/592 [00:00<?, ?B/s]"
      ]
     },
     "metadata": {},
     "output_type": "display_data"
    },
    {
     "data": {
      "application/vnd.jupyter.widget-view+json": {
       "model_id": "c932f31234fc49fc950bbb44bf89149e",
       "version_major": 2,
       "version_minor": 0
      },
      "text/plain": [
       "Downloading vocab.json:   0%|          | 0.00/862k [00:00<?, ?B/s]"
      ]
     },
     "metadata": {},
     "output_type": "display_data"
    },
    {
     "data": {
      "application/vnd.jupyter.widget-view+json": {
       "model_id": "8afd907b9467427d843a7e05270f0c74",
       "version_major": 2,
       "version_minor": 0
      },
      "text/plain": [
       "Downloading merges.txt:   0%|          | 0.00/525k [00:00<?, ?B/s]"
      ]
     },
     "metadata": {},
     "output_type": "display_data"
    },
    {
     "data": {
      "application/vnd.jupyter.widget-view+json": {
       "model_id": "b8819cb33b894324bb46fefe98dc7547",
       "version_major": 2,
       "version_minor": 0
      },
      "text/plain": [
       "Downloading tokenizer.json:   0%|          | 0.00/2.22M [00:00<?, ?B/s]"
      ]
     },
     "metadata": {},
     "output_type": "display_data"
    },
    {
     "data": {
      "application/vnd.jupyter.widget-view+json": {
       "model_id": "970d6c1f72494d8984f6d8a3ecb0ab70",
       "version_major": 2,
       "version_minor": 0
      },
      "text/plain": [
       "Downloading (…)cial_tokens_map.json:   0%|          | 0.00/389 [00:00<?, ?B/s]"
      ]
     },
     "metadata": {},
     "output_type": "display_data"
    }
   ],
   "source": [
    "import torch\n",
    "from transformers import CLIPProcessor, CLIPModel\n",
    "from PIL import Image\n",
    "import requests\n",
    "\n",
    "# Load the CLIP model and processor\n",
    "model = CLIPModel.from_pretrained(\"openai/clip-vit-base-patch32\")\n",
    "processor = CLIPProcessor.from_pretrained(\"openai/clip-vit-base-patch32\")\n",
    "\n",
    "# Define the categories\n",
    "categories = [\"Busted/Gouged\", \"Crushed Core\", \"Wet/Foreign Substances\", \"Unknown\"]\n",
    "\n",
    "# Load and preprocess the images"
   ]
  },
  {
   "cell_type": "code",
   "execution_count": 10,
   "id": "04f71680",
   "metadata": {},
   "outputs": [
    {
     "name": "stdout",
     "output_type": "stream",
     "text": [
      "Directory /Users/colleenjung/Desktop/UChicago/24SummerCorrugated/filtered_data_new exists. Listing files...\n",
      "Found 12 image files.\n",
      "Image: /Users/colleenjung/Desktop/UChicago/24SummerCorrugated/filtered_data_new/MB4E25071Z - Damage.jpg -> Label: Crushed Core\n",
      "Image: /Users/colleenjung/Desktop/UChicago/24SummerCorrugated/filtered_data_new/V64E23091A - Damage.jpg -> Label: Crushed Core\n",
      "Image: /Users/colleenjung/Desktop/UChicago/24SummerCorrugated/filtered_data_new/AMM13F07052Z0 - Damage.jpg -> Label: Crushed Core\n",
      "Image: /Users/colleenjung/Desktop/UChicago/24SummerCorrugated/filtered_data_new/AMM14E25033B0 - Damage.jpg -> Label: Crushed Core\n",
      "Image: /Users/colleenjung/Desktop/UChicago/24SummerCorrugated/filtered_data_new/AMM14E25043B0 - Damage.jpg -> Label: Crushed Core\n",
      "Image: /Users/colleenjung/Desktop/UChicago/24SummerCorrugated/filtered_data_new/P24B17242Z - Damage.jpg -> Label: Crushed Core\n",
      "Image: /Users/colleenjung/Desktop/UChicago/24SummerCorrugated/filtered_data_new/AMM14E23163B0 - Damage.jpg -> Label: Crushed Core\n",
      "Image: /Users/colleenjung/Desktop/UChicago/24SummerCorrugated/filtered_data_new/MB4E10023B - Damage.jpg -> Label: Crushed Core\n",
      "Image: /Users/colleenjung/Desktop/UChicago/24SummerCorrugated/filtered_data_new/MB3E29192B - Damage.jpg -> Label: Crushed Core\n",
      "Image: /Users/colleenjung/Desktop/UChicago/24SummerCorrugated/filtered_data_new/MB4B07241B - Damage.jpg -> Label: Crushed Core\n",
      "Image: /Users/colleenjung/Desktop/UChicago/24SummerCorrugated/filtered_data_new/P22M21201B - Damage.jpg -> Label: Crushed Core\n",
      "Image: /Users/colleenjung/Desktop/UChicago/24SummerCorrugated/filtered_data_new/MB3E18212A - Damage.jpg -> Label: Crushed Core\n",
      "Image: /Users/colleenjung/Desktop/UChicago/24SummerCorrugated/filtered_data_new/MB4E25071Z - Damage.jpg -> Label: Crushed Core\n",
      "Image: /Users/colleenjung/Desktop/UChicago/24SummerCorrugated/filtered_data_new/V64E23091A - Damage.jpg -> Label: Crushed Core\n",
      "Image: /Users/colleenjung/Desktop/UChicago/24SummerCorrugated/filtered_data_new/AMM13F07052Z0 - Damage.jpg -> Label: Crushed Core\n",
      "Image: /Users/colleenjung/Desktop/UChicago/24SummerCorrugated/filtered_data_new/AMM14E25033B0 - Damage.jpg -> Label: Crushed Core\n",
      "Image: /Users/colleenjung/Desktop/UChicago/24SummerCorrugated/filtered_data_new/AMM14E25043B0 - Damage.jpg -> Label: Crushed Core\n",
      "Image: /Users/colleenjung/Desktop/UChicago/24SummerCorrugated/filtered_data_new/P24B17242Z - Damage.jpg -> Label: Crushed Core\n",
      "Image: /Users/colleenjung/Desktop/UChicago/24SummerCorrugated/filtered_data_new/AMM14E23163B0 - Damage.jpg -> Label: Crushed Core\n",
      "Image: /Users/colleenjung/Desktop/UChicago/24SummerCorrugated/filtered_data_new/MB4E10023B - Damage.jpg -> Label: Crushed Core\n",
      "Image: /Users/colleenjung/Desktop/UChicago/24SummerCorrugated/filtered_data_new/MB3E29192B - Damage.jpg -> Label: Crushed Core\n",
      "Image: /Users/colleenjung/Desktop/UChicago/24SummerCorrugated/filtered_data_new/MB4B07241B - Damage.jpg -> Label: Crushed Core\n",
      "Image: /Users/colleenjung/Desktop/UChicago/24SummerCorrugated/filtered_data_new/P22M21201B - Damage.jpg -> Label: Crushed Core\n",
      "Image: /Users/colleenjung/Desktop/UChicago/24SummerCorrugated/filtered_data_new/MB3E18212A - Damage.jpg -> Label: Crushed Core\n"
     ]
    }
   ],
   "source": [
    "import os\n",
    "\n",
    "categories = [\"Busted/Gouged\", \"Crushed Core\", \"Wet/Foreign Substances\", \"Unknown\"]\n",
    "\n",
    "# Define the path to the images\n",
    "image_directory = \"/Users/colleenjung/Desktop/UChicago/24SummerCorrugated/filtered_data_new\"\n",
    "\n",
    "# Check if the directory exists\n",
    "if not os.path.exists(image_directory):\n",
    "    print(f\"Directory {image_directory} does not exist.\")\n",
    "else:\n",
    "    print(f\"Directory {image_directory} exists. Listing files...\")\n",
    "\n",
    "# List all image files in the directory\n",
    "image_paths = [os.path.join(image_directory, filename) for filename in os.listdir(image_directory) if filename.endswith(('.jpg', '.jpeg', '.png'))]\n",
    "\n",
    "# Check if image paths are correctly identified\n",
    "if not image_paths:\n",
    "    print(\"No image files found in the directory.\")\n",
    "else:\n",
    "    print(f\"Found {len(image_paths)} image files.\")\n",
    "\n",
    "# Function to classify an image using CLIP\n",
    "def classify_image(image_path):\n",
    "    try:\n",
    "        image = Image.open(image_path)\n",
    "        inputs = processor(text=categories, images=image, return_tensors=\"pt\", padding=True)\n",
    "        outputs = model(**inputs)\n",
    "        logits_per_image = outputs.logits_per_image\n",
    "        probs = logits_per_image.softmax(dim=1)  # Convert logits to probabilities\n",
    "        category_idx = probs.argmax().item()\n",
    "        return categories[category_idx]\n",
    "    except Exception as e:\n",
    "        print(f\"Error classifying image {image_path}: {e}\")\n",
    "        return \"Error\"\n",
    "\n",
    "# Classify each image and store the results\n",
    "classified_images = []\n",
    "for image_path in image_paths:\n",
    "    label = classify_image(image_path)\n",
    "    classified_images.append((image_path, label))\n",
    "    print(f\"Image: {image_path} -> Label: {label}\")\n",
    "\n",
    "# Display the results\n",
    "for image_path, label in classified_images:\n",
    "    print(f\"Image: {image_path} -> Label: {label}\")"
   ]
  }
 ],
 "metadata": {
  "kernelspec": {
   "display_name": "Python 3 (ipykernel)",
   "language": "python",
   "name": "python3"
  },
  "language_info": {
   "codemirror_mode": {
    "name": "ipython",
    "version": 3
   },
   "file_extension": ".py",
   "mimetype": "text/x-python",
   "name": "python",
   "nbconvert_exporter": "python",
   "pygments_lexer": "ipython3",
   "version": "3.11.5"
  }
 },
 "nbformat": 4,
 "nbformat_minor": 5
}
